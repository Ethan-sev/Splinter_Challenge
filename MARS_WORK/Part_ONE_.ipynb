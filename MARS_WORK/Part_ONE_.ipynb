{
 "cells": [
  {
   "cell_type": "code",
   "execution_count": 1,
   "metadata": {},
   "outputs": [],
   "source": [
    "# Import Splinter and BeautifulSoup\n",
    "from splinter import Browser\n",
    "from bs4 import BeautifulSoup as soup"
   ]
  },
  {
   "cell_type": "code",
   "execution_count": 2,
   "metadata": {},
   "outputs": [],
   "source": [
    "browser = Browser('chrome')"
   ]
  },
  {
   "cell_type": "code",
   "execution_count": 3,
   "metadata": {},
   "outputs": [],
   "source": [
    "# Visit the Mars news site\n",
    "url = 'https://static.bc-edx.com/data/web/mars_news/index.html'\n",
    "browser.visit(url)"
   ]
  },
  {
   "cell_type": "code",
   "execution_count": 4,
   "metadata": {},
   "outputs": [],
   "source": [
    "html = browser.html"
   ]
  },
  {
   "cell_type": "code",
   "execution_count": 6,
   "metadata": {},
   "outputs": [],
   "source": [
    "soup = soup(html, 'html.parser')"
   ]
  },
  {
   "cell_type": "code",
   "execution_count": 12,
   "metadata": {},
   "outputs": [],
   "source": [
    "# Find new elements\n",
    "titles = soup.find_all('div', class_='content_title')"
   ]
  },
  {
   "cell_type": "code",
   "execution_count": 13,
   "metadata": {},
   "outputs": [
    {
     "name": "stdout",
     "output_type": "stream",
     "text": [
      "NASA's MAVEN Observes Martian Light Show Caused by Major Solar Storm\n",
      "NASA Prepares to Say 'Farewell' to InSight Spacecraft\n",
      "NASA and ESA Agree on Next Steps to Return Mars Samples to Earth\n",
      "NASA's InSight Lander Detects Stunning Meteoroid Impact on Mars\n",
      "NASA To Host Briefing on InSight, Mars Reconnaissance Orbiter Findings\n",
      "Why NASA Is Trying To Crash Land on Mars\n",
      "Curiosity Mars Rover Reaches Long-Awaited Salty Region\n",
      "Mars Mission Shields Up for Tests\n",
      "NASA's InSight Waits Out Dust Storm\n",
      "NASA's InSight 'Hears' Its First Meteoroid Impacts on Mars\n",
      "NASA's Perseverance Rover Investigates Geologically Rich Mars Terrain\n",
      "NASA to Host Briefing on Perseverance Mars Rover Mission Operations\n",
      "NASA's Perseverance Makes New Discoveries in Mars' Jezero Crater\n",
      "10 Years Since Landing, NASA's Curiosity Mars Rover Still Has Drive\n",
      "SAM's Top 5 Discoveries Aboard NASA's Curiosity Rover at Mars\n"
     ]
    }
   ],
   "source": [
    "# Finding titles first\n",
    "\n",
    "for title in titles:\n",
    "    print(title.text)"
   ]
  },
  {
   "cell_type": "code",
   "execution_count": 19,
   "metadata": {},
   "outputs": [
    {
     "data": {
      "text/plain": [
       "[<div class=\"article_teaser_body\">For the first time in its eight years orbiting Mars, NASA’s MAVEN mission witnessed two different types of ultraviolet aurorae simultaneously, the result of solar storms that began on Aug. 27.</div>,\n",
       " <div class=\"article_teaser_body\">A closer look at what goes into wrapping up the mission as the spacecraft’s power supply continues to dwindle.</div>,\n",
       " <div class=\"article_teaser_body\">The agency’s Perseverance rover will establish the first sample depot on Mars.</div>,\n",
       " <div class=\"article_teaser_body\">The agency’s lander felt the ground shake during the impact while cameras aboard the Mars Reconnaissance Orbiter spotted the yawning new crater from space.</div>,\n",
       " <div class=\"article_teaser_body\">Scientists from two Mars missions will discuss how they combined images and data for a major finding on the Red Planet.</div>,\n",
       " <div class=\"article_teaser_body\">Like a car’s crumple zone, the experimental SHIELD lander is designed to absorb a hard impact.</div>,\n",
       " <div class=\"article_teaser_body\">After years of climbing, the Mars rover has arrived at a special region believed to have formed as Mars’ climate was drying.</div>,\n",
       " <div class=\"article_teaser_body\">Protecting Mars Sample Return spacecraft from micrometeorites requires high-caliber work.</div>,\n",
       " <div class=\"article_teaser_body\">InSight’s team is taking steps to help the solar-powered lander continue operating for as long as possible.</div>,\n",
       " <div class=\"article_teaser_body\">The Mars lander’s seismometer has picked up vibrations from four separate impacts in the past two years.</div>,\n",
       " <div class=\"article_teaser_body\">The latest findings provide greater detail on a region of the Red Planet that has a watery past and is yielding promising samples for the NASA-ESA Mars Sample Return campaign.</div>,\n",
       " <div class=\"article_teaser_body\">Members of the mission will discuss the rover’s activities as it gathers samples in an ancient river delta.</div>,\n",
       " <div class=\"article_teaser_body\">The rover found that Jezero Crater’s floor is made up of volcanic rocks that have interacted with water.</div>,\n",
       " <div class=\"article_teaser_body\">Despite signs of wear, the intrepid spacecraft is about to start an exciting new chapter of its mission as it climbs a Martian mountain.</div>,\n",
       " <div class=\"article_teaser_body\">“Selfie” of the Curiosity rover with inset showing the SAM instrument prior to installation on the rover.</div>]"
      ]
     },
     "execution_count": 19,
     "metadata": {},
     "output_type": "execute_result"
    }
   ],
   "source": [
    "# Finding preview\n",
    "previews = soup.find_all('div', class_='article_teaser_body')\n",
    "previews"
   ]
  },
  {
   "cell_type": "code",
   "execution_count": 34,
   "metadata": {},
   "outputs": [
    {
     "name": "stdout",
     "output_type": "stream",
     "text": [
      "Title: NASA's MAVEN Observes Martian Light Show Caused by Major Solar Storm\n",
      "Preview: For the first time in its eight years orbiting Mars, NASA’s MAVEN mission witnessed two different types of ultraviolet aurorae simultaneously, the result of solar storms that began on Aug. 27.\n",
      "\n",
      "Title: NASA Prepares to Say 'Farewell' to InSight Spacecraft\n",
      "Preview: A closer look at what goes into wrapping up the mission as the spacecraft’s power supply continues to dwindle.\n",
      "\n",
      "Title: NASA and ESA Agree on Next Steps to Return Mars Samples to Earth\n",
      "Preview: The agency’s Perseverance rover will establish the first sample depot on Mars.\n",
      "\n",
      "Title: NASA's InSight Lander Detects Stunning Meteoroid Impact on Mars\n",
      "Preview: The agency’s lander felt the ground shake during the impact while cameras aboard the Mars Reconnaissance Orbiter spotted the yawning new crater from space.\n",
      "\n",
      "Title: NASA To Host Briefing on InSight, Mars Reconnaissance Orbiter Findings\n",
      "Preview: Scientists from two Mars missions will discuss how they combined images and data for a major finding on the Red Planet.\n",
      "\n",
      "Title: Why NASA Is Trying To Crash Land on Mars\n",
      "Preview: Like a car’s crumple zone, the experimental SHIELD lander is designed to absorb a hard impact.\n",
      "\n",
      "Title: Curiosity Mars Rover Reaches Long-Awaited Salty Region\n",
      "Preview: After years of climbing, the Mars rover has arrived at a special region believed to have formed as Mars’ climate was drying.\n",
      "\n",
      "Title: Mars Mission Shields Up for Tests\n",
      "Preview: Protecting Mars Sample Return spacecraft from micrometeorites requires high-caliber work.\n",
      "\n",
      "Title: NASA's InSight Waits Out Dust Storm\n",
      "Preview: InSight’s team is taking steps to help the solar-powered lander continue operating for as long as possible.\n",
      "\n",
      "Title: NASA's InSight 'Hears' Its First Meteoroid Impacts on Mars\n",
      "Preview: The Mars lander’s seismometer has picked up vibrations from four separate impacts in the past two years.\n",
      "\n",
      "Title: NASA's Perseverance Rover Investigates Geologically Rich Mars Terrain\n",
      "Preview: The latest findings provide greater detail on a region of the Red Planet that has a watery past and is yielding promising samples for the NASA-ESA Mars Sample Return campaign.\n",
      "\n",
      "Title: NASA to Host Briefing on Perseverance Mars Rover Mission Operations\n",
      "Preview: Members of the mission will discuss the rover’s activities as it gathers samples in an ancient river delta.\n",
      "\n",
      "Title: NASA's Perseverance Makes New Discoveries in Mars' Jezero Crater\n",
      "Preview: The rover found that Jezero Crater’s floor is made up of volcanic rocks that have interacted with water.\n",
      "\n",
      "Title: 10 Years Since Landing, NASA's Curiosity Mars Rover Still Has Drive\n",
      "Preview: Despite signs of wear, the intrepid spacecraft is about to start an exciting new chapter of its mission as it climbs a Martian mountain.\n",
      "\n",
      "Title: SAM's Top 5 Discoveries Aboard NASA's Curiosity Rover at Mars\n",
      "Preview: “Selfie” of the Curiosity rover with inset showing the SAM instrument prior to installation on the rover.\n",
      "\n",
      "{'title': \"SAM's Top 5 Discoveries Aboard NASA's Curiosity Rover at Mars\", 'preview': '“Selfie” of the Curiosity rover with inset showing the SAM instrument prior to installation on the rover.'}\n"
     ]
    }
   ],
   "source": [
    "# Putting both together in a list\n",
    "# List_text seemed to work the best for me\n",
    "articles_data = []\n",
    "\n",
    "list_texts = soup.find_all('div', class_='list_text')\n",
    "\n",
    "list_texts\n",
    "for list_text in list_texts:\n",
    "    \n",
    "    titles = list_text.find('div', class_='content_title').text.strip()\n",
    "    previews = list_text.find('div', class_='article_teaser_body').text.strip()\n",
    "    \n",
    "    article_data = {\n",
    "        'title': titles,\n",
    "        'preview': previews\n",
    "    }\n",
    "    \n",
    "    articles_data.append(article_data)\n",
    "for article in articles_data:\n",
    "    print(\"Title:\", article['title'])\n",
    "    print(\"Preview:\", article['preview'])\n",
    "    print()\n",
    "print(article_data)\n"
   ]
  },
  {
   "cell_type": "code",
   "execution_count": 35,
   "metadata": {},
   "outputs": [],
   "source": [
    "browser.quit()"
   ]
  }
 ],
 "metadata": {
  "kernelspec": {
   "display_name": "base",
   "language": "python",
   "name": "python3"
  },
  "language_info": {
   "codemirror_mode": {
    "name": "ipython",
    "version": 3
   },
   "file_extension": ".py",
   "mimetype": "text/x-python",
   "name": "python",
   "nbconvert_exporter": "python",
   "pygments_lexer": "ipython3",
   "version": "3.11.7"
  }
 },
 "nbformat": 4,
 "nbformat_minor": 2
}
